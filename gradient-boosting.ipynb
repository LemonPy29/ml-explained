{
 "cells": [
  {
   "cell_type": "markdown",
   "metadata": {},
   "source": [
    "To see a full explanation of this notebook and gradient boosting in general, please refer to my page [here](https://lemonpy29.github.io/explained-ml/gradient-boosting.html)"
   ]
  },
  {
   "cell_type": "code",
   "execution_count": 1,
   "metadata": {},
   "outputs": [],
   "source": [
    "import pandas as pd\n",
    "import numpy as np\n",
    "from sklearn.model_selection import train_test_split\n",
    "from sklearn.tree import DecisionTreeClassifier, DecisionTreeRegressor\n",
    "from sklearn.metrics import f1_score, roc_auc_score\n",
    "import matplotlib.pyplot as plt\n",
    "\n",
    "seed = 1301"
   ]
  },
  {
   "cell_type": "code",
   "execution_count": 2,
   "metadata": {},
   "outputs": [],
   "source": [
    "# modified version of the classic titanic data set from kaggle\n",
    "# download at https://www.kaggle.com/heptapod/titanic\n",
    "path = 'titanic_mod.csv'\n",
    "data = pd.read_csv(path)"
   ]
  },
  {
   "cell_type": "code",
   "execution_count": 3,
   "metadata": {},
   "outputs": [],
   "source": [
    "def split_data(data, target, drop, test_size=0.2, seed=seed):\n",
    "    # short method to prepare and split\n",
    "    data_wo_nan = data.dropna()\n",
    "    flat_target = data_wo_nan[target].values.ravel()\n",
    "    return train_test_split(data_wo_nan.drop(target + drop, axis=1),\n",
    "                            flat_target,\n",
    "                            test_size=test_size,\n",
    "                            random_state=seed)\n",
    "\n",
    "drop = ['Passengerid'] \n",
    "target = ['Survived']\n",
    "X_train, X_test, y_train, y_test = split_data(data, target, drop)"
   ]
  },
  {
   "cell_type": "code",
   "execution_count": 4,
   "metadata": {},
   "outputs": [
    {
     "name": "stdout",
     "output_type": "stream",
     "text": [
      "f1 score: 0.63\n"
     ]
    }
   ],
   "source": [
    "base_learner = DecisionTreeClassifier(max_depth=3, random_state=seed)\n",
    "base_learner.fit(X_train, y_train)\n",
    "y_pred = base_learner.predict(X_test)\n",
    "\n",
    "print(f\"f1 score: {f1_score(y_test, y_pred):.2f}\")"
   ]
  },
  {
   "cell_type": "code",
   "execution_count": 5,
   "metadata": {},
   "outputs": [],
   "source": [
    "def binary_loss():\n",
    "    def func(y, p): \n",
    "        return -2.0 * np.mean(y * np.log(p/(1-p)) - np.logaddexp(0.0, np.log(p/(1-p))))\n",
    "    def gradient(y, p):\n",
    "        return (p-y)/(p*(1-p))\n",
    "    func.gradient = gradient\n",
    "    return func"
   ]
  },
  {
   "cell_type": "code",
   "execution_count": 6,
   "metadata": {},
   "outputs": [],
   "source": [
    "class gradient_booster:\n",
    "    def __init__(self, loss, lr, **tree_config):\n",
    "        self.lr = lr\n",
    "        self.loss = loss \n",
    "        self.learners = [] \n",
    "        self.tree_config = tree_config\n",
    "    \n",
    "    @staticmethod\n",
    "    def sigmoid(z):\n",
    "        return 1 / (1 + np.exp(-z))\n",
    "    \n",
    "    def _fit_base(self, X, y):\n",
    "        base_learner = DecisionTreeClassifier(**self.tree_config, random_state=seed)\n",
    "        base_learner.fit(X, y)\n",
    "        self.learners.append(base_learner)\n",
    "    \n",
    "    def _predict_base(self, X):\n",
    "        return self.learners[0].predict_proba(X)[:,1]\n",
    "        \n",
    "    def fit(self, X, y, boosting_rounds):\n",
    "        self.loss_history = []\n",
    "        self._fit_base(X, y)\n",
    "        prbs = self._predict_base(X)\n",
    "        predictions = prbs\n",
    "        \n",
    "        for _ in range(boosting_rounds):\n",
    "            target = -self.loss.gradient(y, prbs)\n",
    "            current_model = DecisionTreeRegressor(**self.tree_config, random_state=seed) \n",
    "            current_model.fit(X, target)\n",
    "            self.learners.append(current_model)\n",
    "            predictions += self.lr * current_model.predict(X)\n",
    "            prbs = self.sigmoid(predictions) \n",
    "            self.loss_history.append(self.loss(y, prbs))\n",
    "    \n",
    "    def predict_proba(self, X):\n",
    "        predictions = self._predict_base(X)\n",
    "        for m in self.learners[1:]:\n",
    "            predictions += self.lr * m.predict(X)\n",
    "        return self.sigmoid(predictions)"
   ]
  },
  {
   "cell_type": "code",
   "execution_count": 7,
   "metadata": {},
   "outputs": [],
   "source": [
    "booster = gradient_booster(loss=binary_loss(), lr=0.01, max_depth=3)"
   ]
  },
  {
   "cell_type": "code",
   "execution_count": 8,
   "metadata": {},
   "outputs": [],
   "source": [
    "booster.fit(X_train, y_train, 50)"
   ]
  },
  {
   "cell_type": "code",
   "execution_count": 9,
   "metadata": {},
   "outputs": [
    {
     "data": {
      "text/plain": [
       "Text(0, 0.5, 'Binary Loss')"
      ]
     },
     "execution_count": 9,
     "metadata": {},
     "output_type": "execute_result"
    },
    {
     "data": {
      "image/png": "[encoded data removed]",
      "text/plain": [
       "<Figure size 432x288 with 1 Axes>"
      ]
     },
     "metadata": {
      "needs_background": "light"
     },
     "output_type": "display_data"
    }
   ],
   "source": [
    "fig, ax = plt.subplots(1,1)\n",
    "ax.plot(booster.loss_history)\n",
    "ax.set_xlabel('Boosting Rounds')\n",
    "ax.set_ylabel('Binary Loss')"
   ]
  },
  {
   "cell_type": "code",
   "execution_count": 10,
   "metadata": {},
   "outputs": [
    {
     "name": "stdout",
     "output_type": "stream",
     "text": [
      "f1 score: 0.71\n"
     ]
    }
   ],
   "source": [
    "y_prob = booster.predict_proba(X_test)\n",
    "y_pred = 1*(y_prob>0.5)\n",
    "print(f\"f1 score: {f1_score(y_test,y_pred):.2f}\")"
   ]
  }
 ],
 "metadata": {
  "kernelspec": {
   "display_name": "Python 3",
   "language": "python",
   "name": "python3"
  },
  "language_info": {
   "codemirror_mode": {
    "name": "ipython",
    "version": 3
   },
   "file_extension": ".py",
   "mimetype": "text/x-python",
   "name": "python",
   "nbconvert_exporter": "python",
   "pygments_lexer": "ipython3",
   "version": "3.7.3"
  }
 },
 "nbformat": 4,
 "nbformat_minor": 2
}
